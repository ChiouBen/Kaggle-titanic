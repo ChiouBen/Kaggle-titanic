{
 "cells": [
  {
   "cell_type": "code",
   "execution_count": 1,
   "metadata": {},
   "outputs": [],
   "source": [
    "import pandas as pd\n",
    "import numpy as np\n",
    "import copy\n",
    "from matplotlib import pyplot as plt\n",
    "plt.style.use('ggplot')\n",
    "import seaborn as sns"
   ]
  },
  {
   "cell_type": "code",
   "execution_count": 2,
   "metadata": {},
   "outputs": [],
   "source": [
    "data_path = './data/'\n",
    "df_train = pd.read_csv(data_path + 'train.csv')"
   ]
  },
  {
   "cell_type": "code",
   "execution_count": 3,
   "metadata": {},
   "outputs": [
    {
     "name": "stdout",
     "output_type": "stream",
     "text": [
      "(891, 12)\n"
     ]
    },
    {
     "data": {
      "text/html": [
       "<div>\n",
       "<style scoped>\n",
       "    .dataframe tbody tr th:only-of-type {\n",
       "        vertical-align: middle;\n",
       "    }\n",
       "\n",
       "    .dataframe tbody tr th {\n",
       "        vertical-align: top;\n",
       "    }\n",
       "\n",
       "    .dataframe thead th {\n",
       "        text-align: right;\n",
       "    }\n",
       "</style>\n",
       "<table border=\"1\" class=\"dataframe\">\n",
       "  <thead>\n",
       "    <tr style=\"text-align: right;\">\n",
       "      <th></th>\n",
       "      <th>PassengerId</th>\n",
       "      <th>Survived</th>\n",
       "      <th>Pclass</th>\n",
       "      <th>Name</th>\n",
       "      <th>Sex</th>\n",
       "      <th>Age</th>\n",
       "      <th>SibSp</th>\n",
       "      <th>Parch</th>\n",
       "      <th>Ticket</th>\n",
       "      <th>Fare</th>\n",
       "      <th>Cabin</th>\n",
       "      <th>Embarked</th>\n",
       "    </tr>\n",
       "  </thead>\n",
       "  <tbody>\n",
       "    <tr>\n",
       "      <th>0</th>\n",
       "      <td>1</td>\n",
       "      <td>0</td>\n",
       "      <td>3</td>\n",
       "      <td>Braund, Mr. Owen Harris</td>\n",
       "      <td>male</td>\n",
       "      <td>22.0</td>\n",
       "      <td>1</td>\n",
       "      <td>0</td>\n",
       "      <td>A/5 21171</td>\n",
       "      <td>7.2500</td>\n",
       "      <td>NaN</td>\n",
       "      <td>S</td>\n",
       "    </tr>\n",
       "    <tr>\n",
       "      <th>1</th>\n",
       "      <td>2</td>\n",
       "      <td>1</td>\n",
       "      <td>1</td>\n",
       "      <td>Cumings, Mrs. John Bradley (Florence Briggs Th...</td>\n",
       "      <td>female</td>\n",
       "      <td>38.0</td>\n",
       "      <td>1</td>\n",
       "      <td>0</td>\n",
       "      <td>PC 17599</td>\n",
       "      <td>71.2833</td>\n",
       "      <td>C85</td>\n",
       "      <td>C</td>\n",
       "    </tr>\n",
       "    <tr>\n",
       "      <th>2</th>\n",
       "      <td>3</td>\n",
       "      <td>1</td>\n",
       "      <td>3</td>\n",
       "      <td>Heikkinen, Miss. Laina</td>\n",
       "      <td>female</td>\n",
       "      <td>26.0</td>\n",
       "      <td>0</td>\n",
       "      <td>0</td>\n",
       "      <td>STON/O2. 3101282</td>\n",
       "      <td>7.9250</td>\n",
       "      <td>NaN</td>\n",
       "      <td>S</td>\n",
       "    </tr>\n",
       "    <tr>\n",
       "      <th>3</th>\n",
       "      <td>4</td>\n",
       "      <td>1</td>\n",
       "      <td>1</td>\n",
       "      <td>Futrelle, Mrs. Jacques Heath (Lily May Peel)</td>\n",
       "      <td>female</td>\n",
       "      <td>35.0</td>\n",
       "      <td>1</td>\n",
       "      <td>0</td>\n",
       "      <td>113803</td>\n",
       "      <td>53.1000</td>\n",
       "      <td>C123</td>\n",
       "      <td>S</td>\n",
       "    </tr>\n",
       "    <tr>\n",
       "      <th>4</th>\n",
       "      <td>5</td>\n",
       "      <td>0</td>\n",
       "      <td>3</td>\n",
       "      <td>Allen, Mr. William Henry</td>\n",
       "      <td>male</td>\n",
       "      <td>35.0</td>\n",
       "      <td>0</td>\n",
       "      <td>0</td>\n",
       "      <td>373450</td>\n",
       "      <td>8.0500</td>\n",
       "      <td>NaN</td>\n",
       "      <td>S</td>\n",
       "    </tr>\n",
       "  </tbody>\n",
       "</table>\n",
       "</div>"
      ],
      "text/plain": [
       "   PassengerId  Survived  Pclass  \\\n",
       "0            1         0       3   \n",
       "1            2         1       1   \n",
       "2            3         1       3   \n",
       "3            4         1       1   \n",
       "4            5         0       3   \n",
       "\n",
       "                                                Name     Sex   Age  SibSp  \\\n",
       "0                            Braund, Mr. Owen Harris    male  22.0      1   \n",
       "1  Cumings, Mrs. John Bradley (Florence Briggs Th...  female  38.0      1   \n",
       "2                             Heikkinen, Miss. Laina  female  26.0      0   \n",
       "3       Futrelle, Mrs. Jacques Heath (Lily May Peel)  female  35.0      1   \n",
       "4                           Allen, Mr. William Henry    male  35.0      0   \n",
       "\n",
       "   Parch            Ticket     Fare Cabin Embarked  \n",
       "0      0         A/5 21171   7.2500   NaN        S  \n",
       "1      0          PC 17599  71.2833   C85        C  \n",
       "2      0  STON/O2. 3101282   7.9250   NaN        S  \n",
       "3      0            113803  53.1000  C123        S  \n",
       "4      0            373450   8.0500   NaN        S  "
      ]
     },
     "execution_count": 3,
     "metadata": {},
     "output_type": "execute_result"
    }
   ],
   "source": [
    "print(df_train.shape)\n",
    "df_train.head()\n",
    "# Pclass: 艙等 \n",
    "# SibSp: 船上的兄弟姊妹或配偶\n",
    "# Parch: 船上的父母或孩子\n",
    "# Ticket: 票號\n",
    "# Fare: 票錢\n",
    "# Cabin: 住房號碼\n",
    "# Embarked: 登船港口"
   ]
  },
  {
   "cell_type": "code",
   "execution_count": 4,
   "metadata": {},
   "outputs": [
    {
     "data": {
      "text/plain": [
       "Survived\n",
       "0    549\n",
       "1    342\n",
       "Name: PassengerId, dtype: int64"
      ]
     },
     "execution_count": 4,
     "metadata": {},
     "output_type": "execute_result"
    }
   ],
   "source": [
    "df_train.groupby('Survived')['PassengerId'].count()"
   ]
  },
  {
   "cell_type": "code",
   "execution_count": 5,
   "metadata": {},
   "outputs": [
    {
     "name": "stdout",
     "output_type": "stream",
     "text": [
      "(array([], dtype=int64), array([], dtype=int64))\n"
     ]
    },
    {
     "data": {
      "text/plain": [
       "Sex     Survived\n",
       "female  0            81\n",
       "        1           233\n",
       "male    0           468\n",
       "        1           109\n",
       "Name: PassengerId, dtype: int64"
      ]
     },
     "execution_count": 5,
     "metadata": {},
     "output_type": "execute_result"
    },
    {
     "data": {
      "image/png": "[encoded data removed]",
      "text/plain": [
       "<Figure size 432x288 with 1 Axes>"
      ]
     },
     "metadata": {
      "needs_background": "light"
     },
     "output_type": "display_data"
    }
   ],
   "source": [
    "# 觀察性別跟存活率\n",
    "print(np.where(pd.isnull(df_train[['Sex']])))\n",
    "sns.countplot(df_train['Sex'], hue=df_train['Survived'])\n",
    "df_train.groupby(['Sex', 'Survived'])['PassengerId'].count()"
   ]
  },
  {
   "cell_type": "code",
   "execution_count": 6,
   "metadata": {},
   "outputs": [
    {
     "name": "stdout",
     "output_type": "stream",
     "text": [
      "(array([], dtype=int64), array([], dtype=int64))\n"
     ]
    },
    {
     "data": {
      "text/plain": [
       "Pclass  Survived\n",
       "1       0            80\n",
       "        1           136\n",
       "2       0            97\n",
       "        1            87\n",
       "3       0           372\n",
       "        1           119\n",
       "Name: PassengerId, dtype: int64"
      ]
     },
     "execution_count": 6,
     "metadata": {},
     "output_type": "execute_result"
    },
    {
     "data": {
      "image/png": "[encoded data removed]",
      "text/plain": [
       "<Figure size 432x288 with 1 Axes>"
      ]
     },
     "metadata": {
      "needs_background": "light"
     },
     "output_type": "display_data"
    }
   ],
   "source": [
    "# 觀察艙等跟存活率\n",
    "print(np.where(pd.isnull(df_train[['Pclass']])))\n",
    "sns.countplot(df_train['Pclass'], hue=df_train['Survived'])\n",
    "df_train.groupby(['Pclass', 'Survived'])['PassengerId'].count()"
   ]
  },
  {
   "cell_type": "code",
   "execution_count": 7,
   "metadata": {},
   "outputs": [
    {
     "name": "stdout",
     "output_type": "stream",
     "text": [
      "(array([  0,   2,   4,   5,   7,   8,   9,  12,  13,  14,  15,  16,  17,\n",
      "        18,  19,  20,  22,  24,  25,  26,  28,  29,  30,  32,  33,  34,\n",
      "        35,  36,  37,  38,  39,  40,  41,  42,  43,  44,  45,  46,  47,\n",
      "        48,  49,  50,  51,  53,  56,  57,  58,  59,  60,  63,  64,  65,\n",
      "        67,  68,  69,  70,  71,  72,  73,  74,  76,  77,  78,  79,  80,\n",
      "        81,  82,  83,  84,  85,  86,  87,  89,  90,  91,  93,  94,  95,\n",
      "        98,  99, 100, 101, 103, 104, 105, 106, 107, 108, 109, 111, 112,\n",
      "       113, 114, 115, 116, 117, 119, 120, 121, 122, 125, 126, 127, 129,\n",
      "       130, 131, 132, 133, 134, 135, 138, 140, 141, 142, 143, 144, 145,\n",
      "       146, 147, 149, 150, 152, 153, 154, 155, 156, 157, 158, 159, 160,\n",
      "       161, 162, 163, 164, 165, 167, 168, 169, 171, 172, 173, 175, 176,\n",
      "       178, 179, 180, 181, 182, 184, 186, 187, 188, 189, 190, 191, 192,\n",
      "       196, 197, 198, 199, 200, 201, 202, 203, 204, 206, 207, 208, 210,\n",
      "       211, 212, 213, 214, 216, 217, 219, 220, 221, 222, 223, 225, 226,\n",
      "       227, 228, 229, 231, 232, 233, 234, 235, 236, 237, 238, 239, 240,\n",
      "       241, 242, 243, 244, 246, 247, 249, 250, 253, 254, 255, 256, 258,\n",
      "       259, 260, 261, 264, 265, 266, 267, 270, 271, 272, 274, 276, 277,\n",
      "       278, 279, 280, 281, 282, 283, 285, 286, 287, 288, 289, 290, 293,\n",
      "       294, 295, 296, 300, 301, 302, 304, 306, 308, 312, 313, 314, 315,\n",
      "       316, 317, 320, 321, 322, 323, 324, 326, 328, 330, 333, 334, 335,\n",
      "       338, 342, 343, 344, 346, 347, 348, 349, 350, 352, 353, 354, 355,\n",
      "       357, 358, 359, 360, 361, 362, 363, 364, 365, 367, 368, 371, 372,\n",
      "       373, 374, 375, 376, 378, 379, 380, 381, 382, 383, 384, 385, 386,\n",
      "       387, 388, 389, 391, 392, 395, 396, 397, 398, 399, 400, 401, 402,\n",
      "       403, 404, 405, 406, 407, 408, 409, 410, 411, 413, 414, 415, 416,\n",
      "       417, 418, 419, 420, 421, 422, 423, 424, 425, 426, 427, 428, 431,\n",
      "       432, 433, 436, 437, 439, 440, 441, 442, 443, 444, 446, 447, 448,\n",
      "       450, 451, 454, 455, 458, 459, 461, 463, 464, 465, 466, 467, 468,\n",
      "       469, 470, 471, 472, 474, 476, 477, 478, 479, 480, 481, 482, 483,\n",
      "       485, 488, 489, 490, 491, 493, 494, 495, 497, 499, 500, 501, 502,\n",
      "       503, 506, 507, 508, 509, 510, 511, 513, 514, 517, 518, 519, 521,\n",
      "       522, 524, 525, 526, 528, 529, 530, 531, 532, 533, 534, 535, 537,\n",
      "       538, 541, 542, 543, 545, 546, 547, 548, 549, 551, 552, 553, 554,\n",
      "       555, 557, 559, 560, 561, 562, 563, 564, 565, 566, 567, 568, 569,\n",
      "       570, 573, 574, 575, 576, 578, 579, 580, 582, 584, 586, 588, 589,\n",
      "       590, 592, 593, 594, 595, 596, 597, 598, 600, 601, 602, 603, 604,\n",
      "       605, 606, 607, 608, 610, 611, 612, 613, 614, 615, 616, 617, 619,\n",
      "       620, 622, 623, 624, 626, 628, 629, 631, 633, 634, 635, 636, 637,\n",
      "       638, 639, 640, 642, 643, 644, 646, 648, 649, 650, 651, 652, 653,\n",
      "       654, 655, 656, 657, 658, 660, 661, 663, 664, 665, 666, 667, 668,\n",
      "       670, 672, 673, 674, 675, 676, 677, 678, 680, 682, 683, 684, 685,\n",
      "       686, 687, 688, 691, 692, 693, 694, 695, 696, 697, 702, 703, 704,\n",
      "       705, 706, 708, 709, 713, 714, 718, 719, 720, 721, 722, 723, 725,\n",
      "       726, 727, 728, 729, 731, 732, 733, 734, 735, 736, 738, 739, 743,\n",
      "       744, 746, 747, 749, 750, 752, 753, 754, 755, 756, 757, 758, 760,\n",
      "       761, 762, 764, 766, 767, 768, 769, 770, 771, 773, 774, 775, 777,\n",
      "       778, 780, 783, 784, 785, 786, 787, 788, 790, 791, 792, 793, 794,\n",
      "       795, 797, 798, 799, 800, 801, 803, 804, 805, 807, 808, 810, 811,\n",
      "       812, 813, 814, 816, 817, 818, 819, 821, 822, 824, 825, 826, 827,\n",
      "       828, 830, 831, 832, 833, 834, 836, 837, 838, 840, 841, 842, 843,\n",
      "       844, 845, 846, 847, 848, 850, 851, 852, 854, 855, 856, 858, 859,\n",
      "       860, 861, 863, 864, 865, 866, 868, 869, 870, 873, 874, 875, 876,\n",
      "       877, 878, 880, 881, 882, 883, 884, 885, 886, 888, 890], dtype=int64), array([0, 0, 0, 0, 0, 0, 0, 0, 0, 0, 0, 0, 0, 0, 0, 0, 0, 0, 0, 0, 0, 0,\n",
      "       0, 0, 0, 0, 0, 0, 0, 0, 0, 0, 0, 0, 0, 0, 0, 0, 0, 0, 0, 0, 0, 0,\n",
      "       0, 0, 0, 0, 0, 0, 0, 0, 0, 0, 0, 0, 0, 0, 0, 0, 0, 0, 0, 0, 0, 0,\n",
      "       0, 0, 0, 0, 0, 0, 0, 0, 0, 0, 0, 0, 0, 0, 0, 0, 0, 0, 0, 0, 0, 0,\n",
      "       0, 0, 0, 0, 0, 0, 0, 0, 0, 0, 0, 0, 0, 0, 0, 0, 0, 0, 0, 0, 0, 0,\n",
      "       0, 0, 0, 0, 0, 0, 0, 0, 0, 0, 0, 0, 0, 0, 0, 0, 0, 0, 0, 0, 0, 0,\n",
      "       0, 0, 0, 0, 0, 0, 0, 0, 0, 0, 0, 0, 0, 0, 0, 0, 0, 0, 0, 0, 0, 0,\n",
      "       0, 0, 0, 0, 0, 0, 0, 0, 0, 0, 0, 0, 0, 0, 0, 0, 0, 0, 0, 0, 0, 0,\n",
      "       0, 0, 0, 0, 0, 0, 0, 0, 0, 0, 0, 0, 0, 0, 0, 0, 0, 0, 0, 0, 0, 0,\n",
      "       0, 0, 0, 0, 0, 0, 0, 0, 0, 0, 0, 0, 0, 0, 0, 0, 0, 0, 0, 0, 0, 0,\n",
      "       0, 0, 0, 0, 0, 0, 0, 0, 0, 0, 0, 0, 0, 0, 0, 0, 0, 0, 0, 0, 0, 0,\n",
      "       0, 0, 0, 0, 0, 0, 0, 0, 0, 0, 0, 0, 0, 0, 0, 0, 0, 0, 0, 0, 0, 0,\n",
      "       0, 0, 0, 0, 0, 0, 0, 0, 0, 0, 0, 0, 0, 0, 0, 0, 0, 0, 0, 0, 0, 0,\n",
      "       0, 0, 0, 0, 0, 0, 0, 0, 0, 0, 0, 0, 0, 0, 0, 0, 0, 0, 0, 0, 0, 0,\n",
      "       0, 0, 0, 0, 0, 0, 0, 0, 0, 0, 0, 0, 0, 0, 0, 0, 0, 0, 0, 0, 0, 0,\n",
      "       0, 0, 0, 0, 0, 0, 0, 0, 0, 0, 0, 0, 0, 0, 0, 0, 0, 0, 0, 0, 0, 0,\n",
      "       0, 0, 0, 0, 0, 0, 0, 0, 0, 0, 0, 0, 0, 0, 0, 0, 0, 0, 0, 0, 0, 0,\n",
      "       0, 0, 0, 0, 0, 0, 0, 0, 0, 0, 0, 0, 0, 0, 0, 0, 0, 0, 0, 0, 0, 0,\n",
      "       0, 0, 0, 0, 0, 0, 0, 0, 0, 0, 0, 0, 0, 0, 0, 0, 0, 0, 0, 0, 0, 0,\n",
      "       0, 0, 0, 0, 0, 0, 0, 0, 0, 0, 0, 0, 0, 0, 0, 0, 0, 0, 0, 0, 0, 0,\n",
      "       0, 0, 0, 0, 0, 0, 0, 0, 0, 0, 0, 0, 0, 0, 0, 0, 0, 0, 0, 0, 0, 0,\n",
      "       0, 0, 0, 0, 0, 0, 0, 0, 0, 0, 0, 0, 0, 0, 0, 0, 0, 0, 0, 0, 0, 0,\n",
      "       0, 0, 0, 0, 0, 0, 0, 0, 0, 0, 0, 0, 0, 0, 0, 0, 0, 0, 0, 0, 0, 0,\n",
      "       0, 0, 0, 0, 0, 0, 0, 0, 0, 0, 0, 0, 0, 0, 0, 0, 0, 0, 0, 0, 0, 0,\n",
      "       0, 0, 0, 0, 0, 0, 0, 0, 0, 0, 0, 0, 0, 0, 0, 0, 0, 0, 0, 0, 0, 0,\n",
      "       0, 0, 0, 0, 0, 0, 0, 0, 0, 0, 0, 0, 0, 0, 0, 0, 0, 0, 0, 0, 0, 0,\n",
      "       0, 0, 0, 0, 0, 0, 0, 0, 0, 0, 0, 0, 0, 0, 0, 0, 0, 0, 0, 0, 0, 0,\n",
      "       0, 0, 0, 0, 0, 0, 0, 0, 0, 0, 0, 0, 0, 0, 0, 0, 0, 0, 0, 0, 0, 0,\n",
      "       0, 0, 0, 0, 0, 0, 0, 0, 0, 0, 0, 0, 0, 0, 0, 0, 0, 0, 0, 0, 0, 0,\n",
      "       0, 0, 0, 0, 0, 0, 0, 0, 0, 0, 0, 0, 0, 0, 0, 0, 0, 0, 0, 0, 0, 0,\n",
      "       0, 0, 0, 0, 0, 0, 0, 0, 0, 0, 0, 0, 0, 0, 0, 0, 0, 0, 0, 0, 0, 0,\n",
      "       0, 0, 0, 0, 0], dtype=int64))\n"
     ]
    },
    {
     "data": {
      "text/plain": [
       "<matplotlib.axes._subplots.AxesSubplot at 0xb7dc438>"
      ]
     },
     "execution_count": 7,
     "metadata": {},
     "output_type": "execute_result"
    },
    {
     "data": {
      "image/png": "[encoded data removed]",
      "text/plain": [
       "<Figure size 432x288 with 1 Axes>"
      ]
     },
     "metadata": {
      "needs_background": "light"
     },
     "output_type": "display_data"
    }
   ],
   "source": [
    "# 觀察Cabin，並只取第一個字母\n",
    "print(np.where(df_train[['Cabin']].isna()))\n",
    "df_train['Cabin'].fillna(\"-1\", inplace=True)\n",
    "df_train['Cabin_class'] = df_train['Cabin'].str.get(0)\n",
    "df_train.groupby(['Cabin_class'])['PassengerId'].count()\n",
    "sns.countplot(df_train['Cabin_class'], hue=df_train['Pclass'])"
   ]
  },
  {
   "cell_type": "code",
   "execution_count": 8,
   "metadata": {},
   "outputs": [
    {
     "name": "stdout",
     "output_type": "stream",
     "text": [
      "(array([ 61, 829], dtype=int64), array([0, 0], dtype=int64))\n"
     ]
    },
    {
     "data": {
      "text/plain": [
       "Embarked  Survived\n",
       "C         0            75\n",
       "          1            93\n",
       "Q         0            47\n",
       "          1            30\n",
       "S         0           427\n",
       "          1           217\n",
       "Name: PassengerId, dtype: int64"
      ]
     },
     "execution_count": 8,
     "metadata": {},
     "output_type": "execute_result"
    },
    {
     "data": {
      "image/png": "[encoded data removed]",
      "text/plain": [
       "<Figure size 432x288 with 1 Axes>"
      ]
     },
     "metadata": {
      "needs_background": "light"
     },
     "output_type": "display_data"
    }
   ],
   "source": [
    "# 觀察登船港口跟存活率 有缺失值\n",
    "print(np.where(pd.isnull(df_train[['Embarked']])))\n",
    "sns.countplot(df_train['Embarked'], hue=df_train['Survived'])\n",
    "df_train.groupby(['Embarked', 'Survived'])['PassengerId'].count()"
   ]
  },
  {
   "cell_type": "code",
   "execution_count": 9,
   "metadata": {},
   "outputs": [
    {
     "name": "stdout",
     "output_type": "stream",
     "text": [
      "(array([], dtype=int64), array([], dtype=int64))\n",
      "(array([], dtype=int64), array([], dtype=int64))\n"
     ]
    },
    {
     "data": {
      "image/png": "[encoded data removed]",
      "text/plain": [
       "<Figure size 432x288 with 1 Axes>"
      ]
     },
     "metadata": {
      "needs_background": "light"
     },
     "output_type": "display_data"
    },
    {
     "data": {
      "image/png": "[encoded data removed]",
      "text/plain": [
       "<Figure size 432x288 with 1 Axes>"
      ]
     },
     "metadata": {
      "needs_background": "light"
     },
     "output_type": "display_data"
    },
    {
     "data": {
      "image/png": "[encoded data removed]",
      "text/plain": [
       "<Figure size 432x288 with 1 Axes>"
      ]
     },
     "metadata": {
      "needs_background": "light"
     },
     "output_type": "display_data"
    }
   ],
   "source": [
    "# 觀察一起搭船的人跟生存率的關係\n",
    "print(np.where(df_train[['SibSp']].isna()))\n",
    "print(np.where(df_train[['Parch']].isna()))\n",
    "df_train['companion'] = df_train['SibSp'] + df_train['Parch']\n",
    "sns.countplot(df_train['companion'], hue=df_train['Survived'])\n",
    "plt.show()\n",
    "sns.countplot(df_train['SibSp'], hue=df_train['Survived'])\n",
    "plt.show()\n",
    "sns.countplot(df_train['Parch'], hue=df_train['Survived'])\n",
    "plt.show()"
   ]
  },
  {
   "cell_type": "code",
   "execution_count": 10,
   "metadata": {},
   "outputs": [
    {
     "name": "stdout",
     "output_type": "stream",
     "text": [
      "(array([], dtype=int64), array([], dtype=int64))\n"
     ]
    },
    {
     "data": {
      "text/plain": [
       "<matplotlib.axes._subplots.AxesSubplot at 0xb8e4550>"
      ]
     },
     "execution_count": 10,
     "metadata": {},
     "output_type": "execute_result"
    },
    {
     "data": {
      "image/png": "[encoded data removed]",
      "text/plain": [
       "<Figure size 432x288 with 1 Axes>"
      ]
     },
     "metadata": {
      "needs_background": "light"
     },
     "output_type": "display_data"
    }
   ],
   "source": [
    "# 票錢有離群值\n",
    "print(np.where(df_train[['Fare']].isna()))\n",
    "df_train[['Fare']].boxplot()"
   ]
  },
  {
   "cell_type": "code",
   "execution_count": 11,
   "metadata": {},
   "outputs": [
    {
     "data": {
      "text/plain": [
       "(array([  5,  17,  19,  26,  28,  29,  31,  32,  36,  42,  45,  46,  47,\n",
       "         48,  55,  64,  65,  76,  77,  82,  87,  95, 101, 107, 109, 121,\n",
       "        126, 128, 140, 154, 158, 159, 166, 168, 176, 180, 181, 185, 186,\n",
       "        196, 198, 201, 214, 223, 229, 235, 240, 241, 250, 256, 260, 264,\n",
       "        270, 274, 277, 284, 295, 298, 300, 301, 303, 304, 306, 324, 330,\n",
       "        334, 335, 347, 351, 354, 358, 359, 364, 367, 368, 375, 384, 388,\n",
       "        409, 410, 411, 413, 415, 420, 425, 428, 431, 444, 451, 454, 457,\n",
       "        459, 464, 466, 468, 470, 475, 481, 485, 490, 495, 497, 502, 507,\n",
       "        511, 517, 522, 524, 527, 531, 533, 538, 547, 552, 557, 560, 563,\n",
       "        564, 568, 573, 578, 584, 589, 593, 596, 598, 601, 602, 611, 612,\n",
       "        613, 629, 633, 639, 643, 648, 650, 653, 656, 667, 669, 674, 680,\n",
       "        692, 697, 709, 711, 718, 727, 732, 738, 739, 740, 760, 766, 768,\n",
       "        773, 776, 778, 783, 790, 792, 793, 815, 825, 826, 828, 832, 837,\n",
       "        839, 846, 849, 859, 863, 868, 878, 888], dtype=int64),\n",
       " array([0, 0, 0, 0, 0, 0, 0, 0, 0, 0, 0, 0, 0, 0, 0, 0, 0, 0, 0, 0, 0, 0,\n",
       "        0, 0, 0, 0, 0, 0, 0, 0, 0, 0, 0, 0, 0, 0, 0, 0, 0, 0, 0, 0, 0, 0,\n",
       "        0, 0, 0, 0, 0, 0, 0, 0, 0, 0, 0, 0, 0, 0, 0, 0, 0, 0, 0, 0, 0, 0,\n",
       "        0, 0, 0, 0, 0, 0, 0, 0, 0, 0, 0, 0, 0, 0, 0, 0, 0, 0, 0, 0, 0, 0,\n",
       "        0, 0, 0, 0, 0, 0, 0, 0, 0, 0, 0, 0, 0, 0, 0, 0, 0, 0, 0, 0, 0, 0,\n",
       "        0, 0, 0, 0, 0, 0, 0, 0, 0, 0, 0, 0, 0, 0, 0, 0, 0, 0, 0, 0, 0, 0,\n",
       "        0, 0, 0, 0, 0, 0, 0, 0, 0, 0, 0, 0, 0, 0, 0, 0, 0, 0, 0, 0, 0, 0,\n",
       "        0, 0, 0, 0, 0, 0, 0, 0, 0, 0, 0, 0, 0, 0, 0, 0, 0, 0, 0, 0, 0, 0,\n",
       "        0], dtype=int64))"
      ]
     },
     "execution_count": 11,
     "metadata": {},
     "output_type": "execute_result"
    },
    {
     "data": {
      "image/png": "[encoded data removed]",
      "text/plain": [
       "<Figure size 432x288 with 1 Axes>"
      ]
     },
     "metadata": {
      "needs_background": "light"
     },
     "output_type": "display_data"
    }
   ],
   "source": [
    "# 年齡有缺失值\n",
    "df_train[['Age']].boxplot()\n",
    "np.where(pd.isnull(df_train[['Age']]))"
   ]
  },
  {
   "cell_type": "code",
   "execution_count": 12,
   "metadata": {},
   "outputs": [
    {
     "name": "stdout",
     "output_type": "stream",
     "text": [
      "(array([], dtype=int64), array([], dtype=int64))\n",
      "['Mr' 'Mrs' 'Miss' 'Master' 'Don' 'Rev' 'Dr' 'Mme' 'Ms' 'Major' 'Lady'\n",
      " 'Sir' 'Mlle' 'Col' 'Capt' 'Countess' 'Jonkheer']\n"
     ]
    },
    {
     "data": {
      "text/plain": [
       "<matplotlib.axes._subplots.AxesSubplot at 0xc204dd8>"
      ]
     },
     "execution_count": 12,
     "metadata": {},
     "output_type": "execute_result"
    },
    {
     "data": {
      "image/png": "[encoded data removed]",
      "text/plain": [
       "<Figure size 432x288 with 1 Axes>"
      ]
     },
     "metadata": {
      "needs_background": "light"
     },
     "output_type": "display_data"
    }
   ],
   "source": [
    "# 抓取名字裡面的稱謂和存活率的關係\n",
    "print(np.where(df_train[['Name']].isna()))\n",
    "df_train['title'] = df_train['Name'].str.extract(' ([A-Za-z]+)\\.', expand=False)\n",
    "print(df_train['title'].unique())\n",
    "sns.countplot(df_train['title'], hue=df_train['Survived'])"
   ]
  },
  {
   "cell_type": "code",
   "execution_count": null,
   "metadata": {},
   "outputs": [],
   "source": []
  },
  {
   "cell_type": "code",
   "execution_count": null,
   "metadata": {},
   "outputs": [],
   "source": []
  }
 ],
 "metadata": {
  "kernelspec": {
   "display_name": "Python 3",
   "language": "python",
   "name": "python3"
  },
  "language_info": {
   "codemirror_mode": {
    "name": "ipython",
    "version": 3
   },
   "file_extension": ".py",
   "mimetype": "text/x-python",
   "name": "python",
   "nbconvert_exporter": "python",
   "pygments_lexer": "ipython3",
   "version": "3.7.3"
  }
 },
 "nbformat": 4,
 "nbformat_minor": 2
}
