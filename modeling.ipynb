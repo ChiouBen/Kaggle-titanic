{
 "cells": [
  {
   "cell_type": "code",
   "execution_count": 10,
   "metadata": {},
   "outputs": [
    {
     "name": "stdout",
     "output_type": "stream",
     "text": [
      "(891, 42)\n",
      "(418, 42)\n"
     ]
    }
   ],
   "source": [
    "import pandas as pd\n",
    "import numpy as np\n",
    "\n",
    "train_data = pd.read_pickle('./data/train_data.pkl')\n",
    "test_data = pd.read_pickle('./data/test_data.pkl')\n",
    "train_lable = pd.read_pickle('./data/train_lable.pkl')\n",
    "\n",
    "train_data = train_data.drop(['PassengerId', 'Fare_stand', 'Fare_minmax'], axis=1)\n",
    "test_id = test_data[['PassengerId']]\n",
    "test_data = test_data.drop(['PassengerId', 'Fare_stand', 'Fare_minmax'], axis=1)\n",
    "\n",
    "print(train_data.shape)\n",
    "print(test_data.shape)"
   ]
  },
  {
   "cell_type": "code",
   "execution_count": 11,
   "metadata": {},
   "outputs": [
    {
     "data": {
      "text/html": [
       "<div>\n",
       "<style scoped>\n",
       "    .dataframe tbody tr th:only-of-type {\n",
       "        vertical-align: middle;\n",
       "    }\n",
       "\n",
       "    .dataframe tbody tr th {\n",
       "        vertical-align: top;\n",
       "    }\n",
       "\n",
       "    .dataframe thead th {\n",
       "        text-align: right;\n",
       "    }\n",
       "</style>\n",
       "<table border=\"1\" class=\"dataframe\">\n",
       "  <thead>\n",
       "    <tr style=\"text-align: right;\">\n",
       "      <th></th>\n",
       "      <th>Age</th>\n",
       "      <th>SibSp</th>\n",
       "      <th>Parch</th>\n",
       "      <th>Fare</th>\n",
       "      <th>ticket_cnt</th>\n",
       "      <th>Family</th>\n",
       "      <th>Fare_log</th>\n",
       "      <th>Pclass_1</th>\n",
       "      <th>Pclass_2</th>\n",
       "      <th>Pclass_3</th>\n",
       "      <th>...</th>\n",
       "      <th>Embarked_S</th>\n",
       "      <th>Cabin_class_-</th>\n",
       "      <th>Cabin_class_A</th>\n",
       "      <th>Cabin_class_B</th>\n",
       "      <th>Cabin_class_C</th>\n",
       "      <th>Cabin_class_D</th>\n",
       "      <th>Cabin_class_E</th>\n",
       "      <th>Cabin_class_F</th>\n",
       "      <th>Cabin_class_G</th>\n",
       "      <th>Cabin_class_T</th>\n",
       "    </tr>\n",
       "  </thead>\n",
       "  <tbody>\n",
       "    <tr>\n",
       "      <th>0</th>\n",
       "      <td>22.0</td>\n",
       "      <td>1</td>\n",
       "      <td>0</td>\n",
       "      <td>7.2500</td>\n",
       "      <td>1</td>\n",
       "      <td>1</td>\n",
       "      <td>2.110213</td>\n",
       "      <td>0</td>\n",
       "      <td>0</td>\n",
       "      <td>1</td>\n",
       "      <td>...</td>\n",
       "      <td>1</td>\n",
       "      <td>1</td>\n",
       "      <td>0</td>\n",
       "      <td>0</td>\n",
       "      <td>0</td>\n",
       "      <td>0</td>\n",
       "      <td>0</td>\n",
       "      <td>0</td>\n",
       "      <td>0</td>\n",
       "      <td>0</td>\n",
       "    </tr>\n",
       "    <tr>\n",
       "      <th>1</th>\n",
       "      <td>38.0</td>\n",
       "      <td>1</td>\n",
       "      <td>0</td>\n",
       "      <td>71.2833</td>\n",
       "      <td>2</td>\n",
       "      <td>1</td>\n",
       "      <td>4.280593</td>\n",
       "      <td>1</td>\n",
       "      <td>0</td>\n",
       "      <td>0</td>\n",
       "      <td>...</td>\n",
       "      <td>0</td>\n",
       "      <td>0</td>\n",
       "      <td>0</td>\n",
       "      <td>0</td>\n",
       "      <td>1</td>\n",
       "      <td>0</td>\n",
       "      <td>0</td>\n",
       "      <td>0</td>\n",
       "      <td>0</td>\n",
       "      <td>0</td>\n",
       "    </tr>\n",
       "    <tr>\n",
       "      <th>3</th>\n",
       "      <td>26.0</td>\n",
       "      <td>0</td>\n",
       "      <td>0</td>\n",
       "      <td>7.9250</td>\n",
       "      <td>1</td>\n",
       "      <td>0</td>\n",
       "      <td>2.188856</td>\n",
       "      <td>0</td>\n",
       "      <td>0</td>\n",
       "      <td>1</td>\n",
       "      <td>...</td>\n",
       "      <td>1</td>\n",
       "      <td>1</td>\n",
       "      <td>0</td>\n",
       "      <td>0</td>\n",
       "      <td>0</td>\n",
       "      <td>0</td>\n",
       "      <td>0</td>\n",
       "      <td>0</td>\n",
       "      <td>0</td>\n",
       "      <td>0</td>\n",
       "    </tr>\n",
       "    <tr>\n",
       "      <th>4</th>\n",
       "      <td>35.0</td>\n",
       "      <td>1</td>\n",
       "      <td>0</td>\n",
       "      <td>53.1000</td>\n",
       "      <td>2</td>\n",
       "      <td>1</td>\n",
       "      <td>3.990834</td>\n",
       "      <td>1</td>\n",
       "      <td>0</td>\n",
       "      <td>0</td>\n",
       "      <td>...</td>\n",
       "      <td>1</td>\n",
       "      <td>0</td>\n",
       "      <td>0</td>\n",
       "      <td>0</td>\n",
       "      <td>1</td>\n",
       "      <td>0</td>\n",
       "      <td>0</td>\n",
       "      <td>0</td>\n",
       "      <td>0</td>\n",
       "      <td>0</td>\n",
       "    </tr>\n",
       "    <tr>\n",
       "      <th>6</th>\n",
       "      <td>35.0</td>\n",
       "      <td>0</td>\n",
       "      <td>0</td>\n",
       "      <td>8.0500</td>\n",
       "      <td>1</td>\n",
       "      <td>0</td>\n",
       "      <td>2.202765</td>\n",
       "      <td>0</td>\n",
       "      <td>0</td>\n",
       "      <td>1</td>\n",
       "      <td>...</td>\n",
       "      <td>1</td>\n",
       "      <td>1</td>\n",
       "      <td>0</td>\n",
       "      <td>0</td>\n",
       "      <td>0</td>\n",
       "      <td>0</td>\n",
       "      <td>0</td>\n",
       "      <td>0</td>\n",
       "      <td>0</td>\n",
       "      <td>0</td>\n",
       "    </tr>\n",
       "  </tbody>\n",
       "</table>\n",
       "<p>5 rows × 42 columns</p>\n",
       "</div>"
      ],
      "text/plain": [
       "    Age  SibSp  Parch     Fare  ticket_cnt  Family  Fare_log  Pclass_1  \\\n",
       "0  22.0      1      0   7.2500           1       1  2.110213         0   \n",
       "1  38.0      1      0  71.2833           2       1  4.280593         1   \n",
       "3  26.0      0      0   7.9250           1       0  2.188856         0   \n",
       "4  35.0      1      0  53.1000           2       1  3.990834         1   \n",
       "6  35.0      0      0   8.0500           1       0  2.202765         0   \n",
       "\n",
       "   Pclass_2  Pclass_3  ...  Embarked_S  Cabin_class_-  Cabin_class_A  \\\n",
       "0         0         1  ...           1              1              0   \n",
       "1         0         0  ...           0              0              0   \n",
       "3         0         1  ...           1              1              0   \n",
       "4         0         0  ...           1              0              0   \n",
       "6         0         1  ...           1              1              0   \n",
       "\n",
       "   Cabin_class_B  Cabin_class_C  Cabin_class_D  Cabin_class_E  Cabin_class_F  \\\n",
       "0              0              0              0              0              0   \n",
       "1              0              1              0              0              0   \n",
       "3              0              0              0              0              0   \n",
       "4              0              1              0              0              0   \n",
       "6              0              0              0              0              0   \n",
       "\n",
       "   Cabin_class_G  Cabin_class_T  \n",
       "0              0              0  \n",
       "1              0              0  \n",
       "3              0              0  \n",
       "4              0              0  \n",
       "6              0              0  \n",
       "\n",
       "[5 rows x 42 columns]"
      ]
     },
     "execution_count": 11,
     "metadata": {},
     "output_type": "execute_result"
    }
   ],
   "source": [
    "train_data.head()"
   ]
  },
  {
   "cell_type": "markdown",
   "metadata": {},
   "source": [
    "這次的建模主要採用ensemble的模型，ensemble的方式是採用多個錯誤率小於0.5的模型進行投票，如果模型之間獨立的話可以得到更低的錯誤率。\n",
    "\n",
    "常見的方式有Bagging跟Boosting:\n",
    "\n",
    "Bagging為統計上常見的boostrap aggregation方法，從資料集中進行重複取樣，有一個樣本取到的機率近似於63%。\n",
    "隨機森林為常見的Bagging模型，會針對資料集和特徵進行隨機採樣，並且不進行樹的剪裁，優點為隨機取樣，因此比較不會受雜訊影響產生overfitting的問題，可以降低模型的不穩定性。\n"
   ]
  },
  {
   "cell_type": "code",
   "execution_count": 12,
   "metadata": {},
   "outputs": [],
   "source": [
    "x_train, x_test, y_train, y_test = train_test_split(train_data, train_lable, test_size=0.25, random_state=4)"
   ]
  },
  {
   "cell_type": "code",
   "execution_count": 33,
   "metadata": {},
   "outputs": [
    {
     "name": "stdout",
     "output_type": "stream",
     "text": [
      "0.874439461883408\n",
      "Accuracy:  0.8609865470852018\n",
      "Accuracy:  0.8654708520179372\n"
     ]
    },
    {
     "name": "stderr",
     "output_type": "stream",
     "text": [
      "D:\\Anacoda3\\lib\\site-packages\\sklearn\\linear_model\\logistic.py:433: FutureWarning: Default solver will be changed to 'lbfgs' in 0.22. Specify a solver to silence this warning.\n",
      "  FutureWarning)\n"
     ]
    }
   ],
   "source": [
    "from xgboost import XGBClassifier\n",
    "from sklearn.linear_model import LinearRegression, LogisticRegression\n",
    "from sklearn import metrics\n",
    "from sklearn.ensemble import RandomForestClassifier, GradientBoostingClassifier\n",
    "from sklearn.model_selection import train_test_split\n",
    "\n",
    "xgbc = XGBClassifier()\n",
    "xgbc.fit(x_train, y_train)\n",
    "y_pred1 = xgbc.predict(x_test)\n",
    "\n",
    "print(xgbc.score(x_test, y_test))\n",
    "      \n",
    "clf = RandomForestClassifier(random_state=5, n_estimators=200, min_samples_split=20, oob_score=True, n_jobs=2)\n",
    "clf.fit(x_train, y_train)\n",
    "y_pred2 = clf.predict(x_test)\n",
    "acc = metrics.accuracy_score(y_test, y_pred2)\n",
    "print(\"Accuracy: \", acc)\n",
    "      \n",
    "lr = LogisticRegression()\n",
    "lr.fit(x_train, y_train)\n",
    "y_pred3 = lr.predict(x_test)\n",
    "acc = metrics.accuracy_score(y_test, y_pred3)\n",
    "print(\"Accuracy: \", acc)"
   ]
  },
  {
   "cell_type": "code",
   "execution_count": 34,
   "metadata": {},
   "outputs": [
    {
     "name": "stderr",
     "output_type": "stream",
     "text": [
      "D:\\Anacoda3\\lib\\site-packages\\sklearn\\linear_model\\logistic.py:433: FutureWarning: Default solver will be changed to 'lbfgs' in 0.22. Specify a solver to silence this warning.\n",
      "  FutureWarning)\n"
     ]
    }
   ],
   "source": [
    "# 0.75598\n",
    "xgbc = XGBClassifier()\n",
    "xgbc.fit(train_data, train_lable)\n",
    "y_pred1 = xgbc.predict_proba(test_data)[:,1]\n",
    "\n",
    "# 0.79904\n",
    "clf = RandomForestClassifier(random_state=5, n_estimators=200, min_samples_split=20, oob_score=True, n_jobs=2)\n",
    "clf.fit(train_data, train_lable)\n",
    "y_pred2 = clf.predict_proba(test_data)[:,1]\n",
    "\n",
    "# 0.77511\n",
    "lr = LogisticRegression()\n",
    "lr.fit(train_data, train_lable)\n",
    "y_pred3 = lr.predict_proba(test_data)[:,1]"
   ]
  },
  {
   "cell_type": "code",
   "execution_count": 29,
   "metadata": {},
   "outputs": [],
   "source": [
    "# use blending\n",
    "pred = y_pred1*0.32 + y_pred2*0.35 + y_pred3*0.33\n",
    "pred = np.round(pred,0).astype(int)\n",
    "\n",
    "test_id['Survived'] = list(pred)\n",
    "test_id.to_csv('blendding.csv', index = False)"
   ]
  },
  {
   "cell_type": "code",
   "execution_count": 38,
   "metadata": {},
   "outputs": [
    {
     "name": "stderr",
     "output_type": "stream",
     "text": [
      "D:\\Anacoda3\\lib\\site-packages\\sklearn\\linear_model\\logistic.py:433: FutureWarning: Default solver will be changed to 'lbfgs' in 0.22. Specify a solver to silence this warning.\n",
      "  FutureWarning)\n"
     ]
    }
   ],
   "source": [
    "from mlxtend.classifier import StackingClassifier\n",
    "\n",
    "meta_estimator = GradientBoostingClassifier(tol=100, subsample=0.70, n_estimators=50, \n",
    "                                           max_features='sqrt', max_depth=4, learning_rate=0.3)\n",
    "\n",
    "stacking = StackingClassifier(classifiers=[xgbc, clf, lr], meta_classifier=meta_estimator)\n",
    "stacking.fit(train_data, train_lable)\n",
    "stacking_pred = stacking.predict(test_data)\n",
    "test_id['Survived'] = list(stacking_pred)\n",
    "test_id.to_csv('titanic_stacking.csv', index = False)"
   ]
  },
  {
   "cell_type": "code",
   "execution_count": null,
   "metadata": {},
   "outputs": [],
   "source": []
  }
 ],
 "metadata": {
  "kernelspec": {
   "display_name": "Python 3",
   "language": "python",
   "name": "python3"
  },
  "language_info": {
   "codemirror_mode": {
    "name": "ipython",
    "version": 3
   },
   "file_extension": ".py",
   "mimetype": "text/x-python",
   "name": "python",
   "nbconvert_exporter": "python",
   "pygments_lexer": "ipython3",
   "version": "3.7.3"
  }
 },
 "nbformat": 4,
 "nbformat_minor": 2
}
